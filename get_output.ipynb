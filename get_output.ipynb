{
 "cells": [
  {
   "cell_type": "code",
   "execution_count": 3,
   "id": "ee330d33-2482-4020-8871-8824c73380ed",
   "metadata": {
    "execution": {
     "iopub.execute_input": "2025-10-27T14:46:29.595501Z",
     "iopub.status.busy": "2025-10-27T14:46:29.595303Z",
     "iopub.status.idle": "2025-10-27T14:46:29.598679Z",
     "shell.execute_reply": "2025-10-27T14:46:29.597820Z",
     "shell.execute_reply.started": "2025-10-27T14:46:29.595485Z"
    }
   },
   "outputs": [],
   "source": [
    "from tbparse import SummaryReader"
   ]
  },
  {
   "cell_type": "code",
   "execution_count": 4,
   "id": "65b97617-0f30-43ef-86b7-dcce2b5c3389",
   "metadata": {
    "execution": {
     "iopub.execute_input": "2025-10-27T14:46:31.071078Z",
     "iopub.status.busy": "2025-10-27T14:46:31.070890Z",
     "iopub.status.idle": "2025-10-27T14:46:31.089138Z",
     "shell.execute_reply": "2025-10-27T14:46:31.088639Z",
     "shell.execute_reply.started": "2025-10-27T14:46:31.071063Z"
    }
   },
   "outputs": [
    {
     "name": "stdout",
     "output_type": "stream",
     "text": [
      "    step                     tag     value\n",
      "0      0  Average Episode Reward  0.937465\n",
      "1      0          Episode Reward  0.941192\n",
      "2      1          Episode Reward  0.941192\n",
      "3      2          Episode Reward  0.941192\n",
      "4      3          Episode Reward  0.903921\n",
      "5      4          Episode Reward  0.941192\n",
      "6      5          Episode Reward  0.941192\n",
      "7      6          Episode Reward  0.941192\n",
      "8      7          Episode Reward  0.941192\n",
      "9      8          Episode Reward  0.941192\n",
      "10     9          Episode Reward  0.941192\n"
     ]
    }
   ],
   "source": [
    "reader = SummaryReader(\"outputs/2025-10-27/10-51-22\")\n",
    "df = reader.scalars\n",
    "print(df)"
   ]
  }
 ],
 "metadata": {
  "kernelspec": {
   "display_name": "Python 3 (ipykernel)",
   "language": "python",
   "name": "python3"
  },
  "language_info": {
   "codemirror_mode": {
    "name": "ipython",
    "version": 3
   },
   "file_extension": ".py",
   "mimetype": "text/x-python",
   "name": "python",
   "nbconvert_exporter": "python",
   "pygments_lexer": "ipython3",
   "version": "3.11.7"
  }
 },
 "nbformat": 4,
 "nbformat_minor": 5
}
